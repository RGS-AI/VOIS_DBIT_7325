{
 "cells": [
  {
   "cell_type": "code",
   "execution_count": null,
   "id": "1e158646-dd16-43bf-877e-8c3639bfa226",
   "metadata": {},
   "outputs": [],
   "source": []
  }
 ],
 "metadata": {
  "kernelspec": {
   "display_name": "",
   "name": ""
  },
  "language_info": {
   "name": ""
  }
 },
 "nbformat": 4,
 "nbformat_minor": 5
}
